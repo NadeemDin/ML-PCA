{
 "cells": [
  {
   "cell_type": "markdown",
   "id": "5b940c5c",
   "metadata": {},
   "source": [
    "# Principle Component Analysis. (unsupervised technique).\n",
    "\n",
    "\"analysis of a complex of statistical variables into principal components\"\n",
    "\n",
    "#### Purpose of PCA:\n",
    "    - Analysing a complex set of variables into its pricipal components.\n",
    "    - PCA OUTCOMES:\n",
    "        1. Reduce number of dimensions in data.\n",
    "        2. Show which features explain the most variance in the data.\n",
    "       \n",
    "#### Dimension reduction: \n",
    "    - helps visualise and understand complex datasets.\n",
    "    - can also act as a simpler data set for training data for ML algos.\n",
    "        1. Reduce dimensions then train ML algo on smaller data set. \n",
    "    - Helps reduce N features to a desired smaller set of components through a transformation.\n",
    "    - does not simply select a subset of features. \n",
    "    \n",
    "#### Variance Explained:\n",
    "    - certain features are more important/have more explanatory power than other features.\n",
    "    - e.g. size of house more important than colour of house - size more important when calculating price. \n",
    "    - for unsupervised unlabelled data how can we determine feature 'importance'? \n",
    "        - Measure he proportion to which each feature accounts for dispersion in the data set. \n",
    "    - Principle component is a linear combination of original features.\n",
    "    - The more variance the original feature accounts for the more influence it has over the principle components.\n",
    "    - A single principal component can 'explain' some percentage of the original data:\n",
    "        - e.g. 90% of the variance explained by some PC (Principal component).\n",
    "        \n",
    "    - 100% of the variance in the data is explained by all the original features.\n",
    "    - trade off some of the explained variance for less dimensions.\n",
    "    - This can be significant for data sets with many dimensions but only a few strong features\n",
    "    \n",
    "    \n",
    "    \n",
    "    "
   ]
  },
  {
   "cell_type": "code",
   "execution_count": null,
   "id": "5aacdbde",
   "metadata": {},
   "outputs": [],
   "source": []
  }
 ],
 "metadata": {
  "kernelspec": {
   "display_name": "Python 3 (ipykernel)",
   "language": "python",
   "name": "python3"
  },
  "language_info": {
   "codemirror_mode": {
    "name": "ipython",
    "version": 3
   },
   "file_extension": ".py",
   "mimetype": "text/x-python",
   "name": "python",
   "nbconvert_exporter": "python",
   "pygments_lexer": "ipython3",
   "version": "3.9.13"
  }
 },
 "nbformat": 4,
 "nbformat_minor": 5
}
